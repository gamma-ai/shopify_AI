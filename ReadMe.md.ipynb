{
 "cells": [
  {
   "cell_type": "markdown",
   "metadata": {},
   "source": [
    "## ShopifyAI_API\n",
    "###### -->QUANTIFYING PRICES TO GAIN A RETURN ON EACH PURCHASE BASED ON LOW TO HIGH PRICES IN RETAIL\n"
   ]
  },
  {
   "cell_type": "markdown",
   "metadata": {},
   "source": [
    "## Overview\n",
    "###### starting_balance - 6000 \n",
    "###### spent in the 10 categories = 600\n",
    "###### biweekly dropshipping = 26 weeks \n",
    "###### first 30 items of each category\n",
    "\n",
    "This algorithm/analysis is broken down to form a simplistic automated pricing tool to find how much to price an item based on the initial starting balance with a return/profit target in mind while analyzing risk in a volatile marketplace. \n",
    "\n",
    "### Step 1:\n",
    "#### The procedure will consist of building a webscraper via python,beautifulsoup and pandas. \n",
    "#### After this step in the procedure we will be classifying the price versus the item in the category and join the price to the category to optimize classification(Graphs and code are located in shopifai_ai directory).\n",
    "\n",
    "### Step 2:\n",
    "#### After the first step in the procedure has been finished an online stores prices find the mean in a  to identify the average price in each of the ten categories in the store\n",
    "(Tops,\n",
    "Graphic T's,\n",
    "Bottom, \n",
    "Plus, \n",
    "Dresses, \n",
    "Outerwear - Cardigans, \n",
    "Shoes and Accessories, \n",
    "Senegence Lipsense & Shadowsense, \n",
    "Bags).\n",
    "\n",
    "#### PRICING TOOL IMPLENTATION\n",
    "While the prices and items have been joined via the webscraper, we can now plot the prices and items to find the average price in each category and find a price to sell items at and still have a biweekly/annual return percentage. \n",
    "This will help us to develop an automated tool to price the items to compete in the market."
   ]
  },
  {
   "cell_type": "code",
   "execution_count": null,
   "metadata": {},
   "outputs": [],
   "source": []
  }
 ],
 "metadata": {
  "kernelspec": {
   "display_name": "Python 3",
   "language": "python",
   "name": "python3"
  },
  "language_info": {
   "codemirror_mode": {
    "name": "ipython",
    "version": 3
   },
   "file_extension": ".py",
   "mimetype": "text/x-python",
   "name": "python",
   "nbconvert_exporter": "python",
   "pygments_lexer": "ipython3",
   "version": "3.7.3"
  },
  "latex_envs": {
   "LaTeX_envs_menu_present": true,
   "autoclose": false,
   "autocomplete": true,
   "bibliofile": "biblio.bib",
   "cite_by": "apalike",
   "current_citInitial": 1,
   "eqLabelWithNumbers": true,
   "eqNumInitial": 1,
   "hotkeys": {
    "equation": "Ctrl-E",
    "itemize": "Ctrl-I"
   },
   "labels_anchors": false,
   "latex_user_defs": false,
   "report_style_numbering": true,
   "user_envs_cfg": false
  }
 },
 "nbformat": 4,
 "nbformat_minor": 2
}
