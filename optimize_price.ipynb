{
 "cells": [
  {
   "cell_type": "code",
   "execution_count": 18,
   "metadata": {
    "ExecuteTime": {
     "end_time": "2019-12-04T17:11:26.863497Z",
     "start_time": "2019-12-04T17:11:26.849534Z"
    }
   },
   "outputs": [],
   "source": [
    "import matplotlib.pyplot as plt \n",
    "def optimize_price(initial_investment,per_category_investment,inventory,i_pay,mean,customer_buys):\n",
    "    inital_investment = initial_investment\n",
    "    per_category_investment = per_category_investment \n",
    "    print('INVESTED IN EACH OF THE 10 CATEGORIES ${:.2f}'.format(per_category_investment))\n",
    "    mean = mean \n",
    "    i_pay = i_pay\n",
    "    num_categories = 10\n",
    "    invent = i_pay *inventory\n",
    "    current_spend = inital_investment  - per_category_investment\n",
    "    print('UNUSED FUNDS: {}'.format(current_spend))\n",
    "    \n",
    "    profit_target = (current_spend *1.5)/26 #biweekly .....___--rajfdlka(current_spend*1.5)\n",
    "    returns = profit_target/current_spend\n",
    "    new_price = mean*returns+i_pay\n",
    "    price_range = mean-new_price\n",
    "    print('THE PRICE RANGE WIL HELP UP TO FIND THE PERFECT PRICE FOR MAXIMUM RETURNS AND MANAGE LOSSES.')\n",
    "    optimal_price = mean - price_range\n",
    "    print('IF I PAY ${:.2f} PER ITEM , AND MY STARTING INVESTMENT IS: ${:.2f} \\nWITH AN INVENTORY OF: {} ITEMS AT AN AVERAGE PRICE OF ${:.2f}'.format(i_pay,inital_investment,inventory,mean))\n",
    "    print('WE WILL WANT A PROFIT TARGET OF: ${:.2f} BIWEEKLY FOR A 1.5 PERCENT RETURN, \\nMY RETURNS WILL BE: ${:.2f} PER DOLLAR \\nWHILE THE ITEM WILL HAVE A NEW PRICE OF: ${:.2f} \\nWITH A PRICE RANGE OF: {:.2f}'.format(profit_target,returns,new_price,price_range))\n",
    "    print('OPTIMAL PRICE: ${:.2f}'.format(optimal_price))\n",
    "#     print('PROFIT IF STRATEGY FOLLWED WILL BE: ${:.2f} \\nFOR ITEMS IN EACH OF THE TEN CATEGORIES THAT COST: ${}'.format(returns*,mean))\n",
    "#     print('ANNUAL PROFIT: {:.2f}'.format(inital_investment*returns*26))\n",
    "    cus_buys = customer_buys\n",
    "    customer_buys = customer_buys * optimal_price\n",
    "    company_backorder = 0 \n",
    "    back_order = company_backorder\n",
    "    in_stock = True \n",
    "    amount_in_stock = inventory - cus_buys\n",
    "    if customer_buys >= profit_target:\n",
    "        print('THE CUSTOMER BOUGHT {} ITEMS'.format(cus_buys))\n",
    "        print('SINCE THE CUSTOMER BOUGHT THIS AMOUNT OF ITEMS YOU ARE ${:.2f} ABOVE THE PROFIT TARGET'.format(customer_buys-profit_target))\n",
    "        print('CONGRATULATIONS YOU REACHED THE BIWEEKLY PROFIT TARGET ${:.2f}'.format(customer_buys+returns))\n",
    "        can_buy = (customer_buys + returns)/cus_buys\n",
    "        print('YOU CAN BUY {} ITEMS AT WHOLESALE PRICE OF ${:.2f}'.format(can_buy,i_pay))\n",
    "        print('YOU GAINED A PROFIT OF ${:.2f} AFTER THE PURCHASE OF {} ITEMS'.format(customer_buys*returns,cus_buys))\n",
    "        if amount_in_stock == company_backorder:\n",
    "            print('CANNOT FULFILL ORDER , OUT OF STOCK BY {} AMOUNT'.format(amount_in_stock))\n",
    "        if amount_in_stock == back_order:\n",
    "            print('CANNOT ORDER THE COMPANY HAS BACK-ORDERS OF {} ITEMS IN STOCK FOR THIS ITEM'.format(back_order))\n",
    "        if amount_in_stock <= cus_buys:\n",
    "            print(' SORRY BUT THIS ORDER CANNOT BE FULFILLED.. OUT OF INVENTORY DOES THE PARENT COMPANY HAVE ANY IN STOCK')\n",
    "#         if amount_in_stock <=13 and amount_in_stock >= amount_in_stock:\n",
    "#             print('ITEMS HAVE A DISCOUNTED PRICE OF ${:.2f}'.format(-price_range))            \n",
    "        else:\n",
    "            print('ORDER FULFILLED {} ITEMS IN STOCK'.format(amount_in_stock))\n",
    "        plt.hist(profit_target) \n",
    "#     plt.scatter(customer_buys,optimal_price,price_range,new_price)\n",
    "        plt.hist(customer_buys)\n",
    "    elif customer_buys <= profit_target:\n",
    "        print('THE CUSTOMER BOUGHT {} ITEMS'.format(cus_buys))\n",
    "        print('SINCE THE CUSTOMER BOUGHT THIS AMOUNT OF ITEMS YOU ARE ${:.2f} AWAY FROM THE PROFIT TARGET  OF ${:.2f}'.format(profit_target-customer_buys,profit_target))\n",
    "        print('PROFIT TARGET NOT YET HIT')\n",
    "        can_buy =(customer_buys +returns)/cus_buys\n",
    "        print('YOU CAN BUY {} ITEMS AT WHOLESALE PRICE OF ${:.2f}'.format(can_buy,i_pay))\n",
    "        print('YOU GAINED A PROFIT OF ${:.2f} AFTER THE PURCHASE OF {} ITEMS'.format(customer_buys*returns,cus_buys))\n",
    "        if amount_in_stock == 0:\n",
    "            print('CANNOT FULFILL ORDER , OUT OF STOCK BY {} AMOUNT'.format(amount_in_stock))\n",
    "        else:\n",
    "            print('ORDER FULFILLED {} ITEMS IN STOCK'.format(amount_in_stock)) \n",
    "        if amount_in_stock <=5 and amount_in_stock >= amount_in_stock:\n",
    "            print('ITEMS HAVE A DISCOUNTED PRICE OF ${:.2f}'.format(price_range))\n",
    "        plt.hist(profit_target)\n",
    "#     plt.scatter(customer_buys,optimal_price,price_range,new_price)\n",
    "        plt.hist(customer_buys)\n",
    "        \n",
    "    return #i_pay,mean,current_spend,profit_target,returns,new_price"
   ]
  },
  {
   "cell_type": "code",
   "execution_count": 19,
   "metadata": {
    "ExecuteTime": {
     "end_time": "2019-12-04T17:11:28.766537Z",
     "start_time": "2019-12-04T17:11:28.640906Z"
    }
   },
   "outputs": [
    {
     "name": "stdout",
     "output_type": "stream",
     "text": [
      "INVESTED IN EACH OF THE 10 CATEGORIES $600.00\n",
      "UNUSED FUNDS: 5400\n",
      "THE PRICE RANGE WIL HELP UP TO FIND THE PERFECT PRICE FOR MAXIMUM RETURNS AND MANAGE LOSSES.\n",
      "IF I PAY $14.00 PER ITEM , AND MY STARTING INVESTMENT IS: $6000.00 \n",
      "WITH AN INVENTORY OF: 60 ITEMS AT AN AVERAGE PRICE OF $24.56\n",
      "WE WILL WANT A PROFIT TARGET OF: $311.54 BIWEEKLY FOR A 1.5 PERCENT RETURN, \n",
      "MY RETURNS WILL BE: $0.06 PER DOLLAR \n",
      "WHILE THE ITEM WILL HAVE A NEW PRICE OF: $15.42 \n",
      "WITH A PRICE RANGE OF: 9.14\n",
      "OPTIMAL PRICE: $15.42\n",
      "THE CUSTOMER BOUGHT 10 ITEMS\n",
      "SINCE THE CUSTOMER BOUGHT THIS AMOUNT OF ITEMS YOU ARE $157.37 AWAY FROM THE PROFIT TARGET  OF $311.54\n",
      "PROFIT TARGET NOT YET HIT\n",
      "YOU CAN BUY 15.422692307692307 ITEMS AT WHOLESALE PRICE OF $14.00\n",
      "YOU GAINED A PROFIT OF $8.89 AFTER THE PURCHASE OF 10 ITEMS\n",
      "ORDER FULFILLED 50 ITEMS IN STOCK\n"
     ]
    },
    {
     "data": {
      "image/png": "[encoded data removed]",
      "text/plain": [
       "<Figure size 432x288 with 1 Axes>"
      ]
     },
     "metadata": {
      "needs_background": "light"
     },
     "output_type": "display_data"
    }
   ],
   "source": [
    "tops = optimize_price(6000,600,60,14,24.56,10) "
   ]
  },
  {
   "cell_type": "code",
   "execution_count": 6,
   "metadata": {
    "ExecuteTime": {
     "end_time": "2019-12-04T16:48:24.490667Z",
     "start_time": "2019-12-04T16:48:24.377937Z"
    }
   },
   "outputs": [
    {
     "name": "stdout",
     "output_type": "stream",
     "text": [
      "INVESTED IN EACH OF THE 10 CATEGORIES $600.00\n",
      "UNUSED FUNDS: 4200\n",
      "IF I PAY $14.00 PER ITEM , AND MY STARTING INVESTMENT IS: $4800.00 \n",
      "WITH AN INVENTORY OF: 60 ITEMS AT AN AVERAGE PRICE OF $31.92\n",
      "WE WILL WANT A PROFIT TARGET OF: $242.31 BIWEEKLY FOR A 1.5 PERCENT RETURN, \n",
      "MY RETURNS WILL BE: $0.06 PER DOLLAR \n",
      "WHILE THE ITEM WILL HAVE A NEW PRICE OF: $15.84 \n",
      "WITH A PRICE RANGE OF: 16.08\n",
      "OPTIMAL PRICE: $15.84\n",
      "THE CUSTOMER BOUGHT 10 ITEMS\n",
      "SINCE THE CUSTOMER BOUGHT THIS AMOUNT OF ITEMS YOU ARE $83.89 AWAY FROM THE PROFIT TARGET  OF $242.31\n",
      "PROFIT TARGET NOT YET HIT\n",
      "YOU CAN BUY 15.847307692307695 ITEMS AT WHOLESALE PRICE OF $14.00\n",
      "YOU GAINED A PROFIT OF $9.14 AFTER THE PURCHASE OF 10 ITEMS\n",
      "ORDER FULFILLED 50 ITEMS IN STOCK\n"
     ]
    },
    {
     "data": {
      "image/png": "[encoded data removed]",
      "text/plain": [
       "<Figure size 432x288 with 1 Axes>"
      ]
     },
     "metadata": {
      "needs_background": "light"
     },
     "output_type": "display_data"
    }
   ],
   "source": [
    "bottoms = optimize_price(6000-1200,600,60,14,31.92,10)"
   ]
  },
  {
   "cell_type": "code",
   "execution_count": 7,
   "metadata": {
    "ExecuteTime": {
     "end_time": "2019-12-04T16:48:25.077227Z",
     "start_time": "2019-12-04T16:48:24.962562Z"
    }
   },
   "outputs": [
    {
     "name": "stdout",
     "output_type": "stream",
     "text": [
      "INVESTED IN EACH OF THE 10 CATEGORIES $600.00\n",
      "UNUSED FUNDS: 3600\n",
      "IF I PAY $14.00 PER ITEM , AND MY STARTING INVESTMENT IS: $4200.00 \n",
      "WITH AN INVENTORY OF: 60 ITEMS AT AN AVERAGE PRICE OF $32.94\n",
      "WE WILL WANT A PROFIT TARGET OF: $207.69 BIWEEKLY FOR A 1.5 PERCENT RETURN, \n",
      "MY RETURNS WILL BE: $0.06 PER DOLLAR \n",
      "WHILE THE ITEM WILL HAVE A NEW PRICE OF: $15.90 \n",
      "WITH A PRICE RANGE OF: 17.04\n",
      "OPTIMAL PRICE: $15.90\n",
      "THE CUSTOMER BOUGHT 10 ITEMS\n",
      "SINCE THE CUSTOMER BOUGHT THIS AMOUNT OF ITEMS YOU ARE $48.69 AWAY FROM THE PROFIT TARGET  OF $207.69\n",
      "PROFIT TARGET NOT YET HIT\n",
      "YOU CAN BUY 15.906153846153847 ITEMS AT WHOLESALE PRICE OF $14.00\n",
      "YOU GAINED A PROFIT OF $9.17 AFTER THE PURCHASE OF 10 ITEMS\n",
      "ORDER FULFILLED 50 ITEMS IN STOCK\n"
     ]
    },
    {
     "data": {
      "image/png": "[encoded data removed]",
      "text/plain": [
       "<Figure size 432x288 with 1 Axes>"
      ]
     },
     "metadata": {
      "needs_background": "light"
     },
     "output_type": "display_data"
    }
   ],
   "source": [
    "dresses = optimize_price(6000-1800,600,60,14,32.94,10)"
   ]
  },
  {
   "cell_type": "code",
   "execution_count": 8,
   "metadata": {
    "ExecuteTime": {
     "end_time": "2019-12-04T16:48:25.728669Z",
     "start_time": "2019-12-04T16:48:25.605997Z"
    }
   },
   "outputs": [
    {
     "name": "stdout",
     "output_type": "stream",
     "text": [
      "INVESTED IN EACH OF THE 10 CATEGORIES $600.00\n",
      "UNUSED FUNDS: 3000\n",
      "IF I PAY $14.00 PER ITEM , AND MY STARTING INVESTMENT IS: $3600.00 \n",
      "WITH AN INVENTORY OF: 60 ITEMS AT AN AVERAGE PRICE OF $32.44\n",
      "WE WILL WANT A PROFIT TARGET OF: $173.08 BIWEEKLY FOR A 1.5 PERCENT RETURN, \n",
      "MY RETURNS WILL BE: $0.06 PER DOLLAR \n",
      "WHILE THE ITEM WILL HAVE A NEW PRICE OF: $15.87 \n",
      "WITH A PRICE RANGE OF: 16.57\n",
      "OPTIMAL PRICE: $15.87\n",
      "THE CUSTOMER BOUGHT 10 ITEMS\n",
      "SINCE THE CUSTOMER BOUGHT THIS AMOUNT OF ITEMS YOU ARE $14.36 AWAY FROM THE PROFIT TARGET  OF $173.08\n",
      "PROFIT TARGET NOT YET HIT\n",
      "YOU CAN BUY 15.877307692307696 ITEMS AT WHOLESALE PRICE OF $14.00\n",
      "YOU GAINED A PROFIT OF $9.16 AFTER THE PURCHASE OF 10 ITEMS\n",
      "ORDER FULFILLED 50 ITEMS IN STOCK\n"
     ]
    },
    {
     "data": {
      "image/png": "[encoded data removed]",
      "text/plain": [
       "<Figure size 432x288 with 1 Axes>"
      ]
     },
     "metadata": {
      "needs_background": "light"
     },
     "output_type": "display_data"
    }
   ],
   "source": [
    "cardigans = optimize_price(6000-2400,600,60,14,32.44,10)"
   ]
  },
  {
   "cell_type": "code",
   "execution_count": 9,
   "metadata": {
    "ExecuteTime": {
     "end_time": "2019-12-04T16:48:26.116422Z",
     "start_time": "2019-12-04T16:48:25.993751Z"
    }
   },
   "outputs": [
    {
     "name": "stdout",
     "output_type": "stream",
     "text": [
      "INVESTED IN EACH OF THE 10 CATEGORIES $600.00\n",
      "UNUSED FUNDS: 2400\n",
      "IF I PAY $14.00 PER ITEM , AND MY STARTING INVESTMENT IS: $3000.00 \n",
      "WITH AN INVENTORY OF: 60 ITEMS AT AN AVERAGE PRICE OF $25.40\n",
      "WE WILL WANT A PROFIT TARGET OF: $138.46 BIWEEKLY FOR A 1.5 PERCENT RETURN, \n",
      "MY RETURNS WILL BE: $0.06 PER DOLLAR \n",
      "WHILE THE ITEM WILL HAVE A NEW PRICE OF: $15.47 \n",
      "WITH A PRICE RANGE OF: 9.93\n",
      "OPTIMAL PRICE: $15.47\n",
      "THE CUSTOMER BOUGHT 10 ITEMS\n",
      "SINCE THE CUSTOMER BOUGHT THIS AMOUNT OF ITEMS YOU ARE $16.19 ABOVE THE PROFIT TARGET\n",
      "CONGRATULATIONS YOU REACHED THE BIWEEKLY PROFIT TARGET $154.71\n",
      "YOU CAN BUY 15.471153846153845 ITEMS AT WHOLESALE PRICE OF $14.00\n",
      "YOU GAINED A PROFIT OF $8.92 AFTER THE PURCHASE OF 10 ITEMS\n",
      "ORDER FULFILLED 50 ITEMS IN STOCK\n"
     ]
    },
    {
     "data": {
      "image/png": "[encoded data removed]",
      "text/plain": [
       "<Figure size 432x288 with 1 Axes>"
      ]
     },
     "metadata": {
      "needs_background": "light"
     },
     "output_type": "display_data"
    }
   ],
   "source": [
    "hol_dresses = optimize_price(6000-3000,600,60,14,25.4,10)"
   ]
  },
  {
   "cell_type": "code",
   "execution_count": 10,
   "metadata": {
    "ExecuteTime": {
     "end_time": "2019-12-04T16:48:26.639769Z",
     "start_time": "2019-12-04T16:48:26.490178Z"
    }
   },
   "outputs": [
    {
     "name": "stdout",
     "output_type": "stream",
     "text": [
      "INVESTED IN EACH OF THE 10 CATEGORIES $600.00\n",
      "UNUSED FUNDS: 1800\n",
      "IF I PAY $14.00 PER ITEM , AND MY STARTING INVESTMENT IS: $2400.00 \n",
      "WITH AN INVENTORY OF: 60 ITEMS AT AN AVERAGE PRICE OF $35.38\n",
      "WE WILL WANT A PROFIT TARGET OF: $103.85 BIWEEKLY FOR A 1.5 PERCENT RETURN, \n",
      "MY RETURNS WILL BE: $0.06 PER DOLLAR \n",
      "WHILE THE ITEM WILL HAVE A NEW PRICE OF: $16.04 \n",
      "WITH A PRICE RANGE OF: 19.34\n",
      "OPTIMAL PRICE: $16.04\n",
      "THE CUSTOMER BOUGHT 10 ITEMS\n",
      "SINCE THE CUSTOMER BOUGHT THIS AMOUNT OF ITEMS YOU ARE $56.57 ABOVE THE PROFIT TARGET\n",
      "CONGRATULATIONS YOU REACHED THE BIWEEKLY PROFIT TARGET $160.47\n",
      "YOU CAN BUY 16.04692307692308 ITEMS AT WHOLESALE PRICE OF $14.00\n",
      "YOU GAINED A PROFIT OF $9.25 AFTER THE PURCHASE OF 10 ITEMS\n",
      "ORDER FULFILLED 50 ITEMS IN STOCK\n"
     ]
    },
    {
     "data": {
      "image/png": "[encoded data removed]",
      "text/plain": [
       "<Figure size 432x288 with 1 Axes>"
      ]
     },
     "metadata": {
      "needs_background": "light"
     },
     "output_type": "display_data"
    }
   ],
   "source": [
    "hol_beanie = optimize_price(6000-3600,600,60,14,35.38,10) "
   ]
  },
  {
   "cell_type": "code",
   "execution_count": 11,
   "metadata": {
    "ExecuteTime": {
     "end_time": "2019-12-04T16:48:27.028258Z",
     "start_time": "2019-12-04T16:48:26.913564Z"
    }
   },
   "outputs": [
    {
     "name": "stdout",
     "output_type": "stream",
     "text": [
      "INVESTED IN EACH OF THE 10 CATEGORIES $600.00\n",
      "UNUSED FUNDS: 1200\n",
      "IF I PAY $14.00 PER ITEM , AND MY STARTING INVESTMENT IS: $1800.00 \n",
      "WITH AN INVENTORY OF: 60 ITEMS AT AN AVERAGE PRICE OF $20.00\n",
      "WE WILL WANT A PROFIT TARGET OF: $69.23 BIWEEKLY FOR A 1.5 PERCENT RETURN, \n",
      "MY RETURNS WILL BE: $0.06 PER DOLLAR \n",
      "WHILE THE ITEM WILL HAVE A NEW PRICE OF: $15.15 \n",
      "WITH A PRICE RANGE OF: 4.85\n",
      "OPTIMAL PRICE: $15.15\n",
      "THE CUSTOMER BOUGHT 10 ITEMS\n",
      "SINCE THE CUSTOMER BOUGHT THIS AMOUNT OF ITEMS YOU ARE $82.31 ABOVE THE PROFIT TARGET\n",
      "CONGRATULATIONS YOU REACHED THE BIWEEKLY PROFIT TARGET $151.60\n",
      "YOU CAN BUY 15.159615384615387 ITEMS AT WHOLESALE PRICE OF $14.00\n",
      "YOU GAINED A PROFIT OF $8.74 AFTER THE PURCHASE OF 10 ITEMS\n",
      "ORDER FULFILLED 50 ITEMS IN STOCK\n"
     ]
    },
    {
     "data": {
      "image/png": "[encoded data removed]",
      "text/plain": [
       "<Figure size 432x288 with 1 Axes>"
      ]
     },
     "metadata": {
      "needs_background": "light"
     },
     "output_type": "display_data"
    }
   ],
   "source": [
    "lipscence = optimize_price(6000-4200,600,60,14,20.0,10)"
   ]
  },
  {
   "cell_type": "code",
   "execution_count": 12,
   "metadata": {
    "ExecuteTime": {
     "end_time": "2019-12-04T16:48:27.476951Z",
     "start_time": "2019-12-04T16:48:27.329346Z"
    }
   },
   "outputs": [
    {
     "name": "stdout",
     "output_type": "stream",
     "text": [
      "INVESTED IN EACH OF THE 10 CATEGORIES $600.00\n",
      "UNUSED FUNDS: 600\n",
      "IF I PAY $14.00 PER ITEM , AND MY STARTING INVESTMENT IS: $1200.00 \n",
      "WITH AN INVENTORY OF: 60 ITEMS AT AN AVERAGE PRICE OF $23.28\n",
      "WE WILL WANT A PROFIT TARGET OF: $34.62 BIWEEKLY FOR A 1.5 PERCENT RETURN, \n",
      "MY RETURNS WILL BE: $0.06 PER DOLLAR \n",
      "WHILE THE ITEM WILL HAVE A NEW PRICE OF: $15.34 \n",
      "WITH A PRICE RANGE OF: 7.94\n",
      "OPTIMAL PRICE: $15.34\n",
      "THE CUSTOMER BOUGHT 10 ITEMS\n",
      "SINCE THE CUSTOMER BOUGHT THIS AMOUNT OF ITEMS YOU ARE $118.82 ABOVE THE PROFIT TARGET\n",
      "CONGRATULATIONS YOU REACHED THE BIWEEKLY PROFIT TARGET $153.49\n",
      "YOU CAN BUY 15.348846153846157 ITEMS AT WHOLESALE PRICE OF $14.00\n",
      "YOU GAINED A PROFIT OF $8.85 AFTER THE PURCHASE OF 10 ITEMS\n",
      "ORDER FULFILLED 50 ITEMS IN STOCK\n"
     ]
    },
    {
     "data": {
      "image/png": "[encoded data removed]",
      "text/plain": [
       "<Figure size 432x288 with 1 Axes>"
      ]
     },
     "metadata": {
      "needs_background": "light"
     },
     "output_type": "display_data"
    }
   ],
   "source": [
    "plus = optimize_price(6000-4800,600,60,14,23.28,10)"
   ]
  },
  {
   "cell_type": "code",
   "execution_count": 13,
   "metadata": {
    "ExecuteTime": {
     "end_time": "2019-12-04T16:48:27.866306Z",
     "start_time": "2019-12-04T16:48:27.738648Z"
    }
   },
   "outputs": [
    {
     "name": "stdout",
     "output_type": "stream",
     "text": [
      "INVESTED IN EACH OF THE 10 CATEGORIES $300.00\n",
      "UNUSED FUNDS: 300\n",
      "IF I PAY $14.00 PER ITEM , AND MY STARTING INVESTMENT IS: $600.00 \n",
      "WITH AN INVENTORY OF: 60 ITEMS AT AN AVERAGE PRICE OF $14.42\n",
      "WE WILL WANT A PROFIT TARGET OF: $17.31 BIWEEKLY FOR A 1.5 PERCENT RETURN, \n",
      "MY RETURNS WILL BE: $0.06 PER DOLLAR \n",
      "WHILE THE ITEM WILL HAVE A NEW PRICE OF: $14.83 \n",
      "WITH A PRICE RANGE OF: -0.41\n",
      "OPTIMAL PRICE: $14.83\n",
      "THE CUSTOMER BOUGHT 10 ITEMS\n",
      "SINCE THE CUSTOMER BOUGHT THIS AMOUNT OF ITEMS YOU ARE $131.01 ABOVE THE PROFIT TARGET\n",
      "CONGRATULATIONS YOU REACHED THE BIWEEKLY PROFIT TARGET $148.38\n",
      "YOU CAN BUY 14.837692307692311 ITEMS AT WHOLESALE PRICE OF $14.00\n",
      "YOU GAINED A PROFIT OF $8.56 AFTER THE PURCHASE OF 10 ITEMS\n",
      "ORDER FULFILLED 50 ITEMS IN STOCK\n"
     ]
    },
    {
     "data": {
      "image/png": "[encoded data removed]",
      "text/plain": [
       "<Figure size 432x288 with 1 Axes>"
      ]
     },
     "metadata": {
      "needs_background": "light"
     },
     "output_type": "display_data"
    }
   ],
   "source": [
    "acc_shoes = optimize_price(6000-5400,300,60,14,14.42,10)"
   ]
  },
  {
   "cell_type": "code",
   "execution_count": 14,
   "metadata": {
    "ExecuteTime": {
     "end_time": "2019-12-04T16:48:28.249890Z",
     "start_time": "2019-12-04T16:48:28.130210Z"
    }
   },
   "outputs": [
    {
     "name": "stdout",
     "output_type": "stream",
     "text": [
      "INVESTED IN EACH OF THE 10 CATEGORIES $300.00\n",
      "UNUSED FUNDS: 300\n",
      "IF I PAY $14.00 PER ITEM , AND MY STARTING INVESTMENT IS: $600.00 \n",
      "WITH AN INVENTORY OF: 60 ITEMS AT AN AVERAGE PRICE OF $25.63\n",
      "WE WILL WANT A PROFIT TARGET OF: $17.31 BIWEEKLY FOR A 1.5 PERCENT RETURN, \n",
      "MY RETURNS WILL BE: $0.06 PER DOLLAR \n",
      "WHILE THE ITEM WILL HAVE A NEW PRICE OF: $15.48 \n",
      "WITH A PRICE RANGE OF: 10.15\n",
      "OPTIMAL PRICE: $15.48\n",
      "THE CUSTOMER BOUGHT 10 ITEMS\n",
      "SINCE THE CUSTOMER BOUGHT THIS AMOUNT OF ITEMS YOU ARE $137.48 ABOVE THE PROFIT TARGET\n",
      "CONGRATULATIONS YOU REACHED THE BIWEEKLY PROFIT TARGET $154.84\n",
      "YOU CAN BUY 15.484423076923079 ITEMS AT WHOLESALE PRICE OF $14.00\n",
      "YOU GAINED A PROFIT OF $8.93 AFTER THE PURCHASE OF 10 ITEMS\n",
      "ORDER FULFILLED 50 ITEMS IN STOCK\n"
     ]
    },
    {
     "data": {
      "image/png": "[encoded data removed]",
      "text/plain": [
       "<Figure size 432x288 with 1 Axes>"
      ]
     },
     "metadata": {
      "needs_background": "light"
     },
     "output_type": "display_data"
    }
   ],
   "source": [
    "graph_t = optimize_price(600,300,60,14,25.63,10)"
   ]
  },
  {
   "cell_type": "code",
   "execution_count": 15,
   "metadata": {
    "ExecuteTime": {
     "end_time": "2019-12-04T16:48:28.566424Z",
     "start_time": "2019-12-04T16:48:28.561438Z"
    }
   },
   "outputs": [
    {
     "name": "stdout",
     "output_type": "stream",
     "text": [
      "TOTAL BI-WEEKLY PROFIT WILL BE $1315.40 IF CURRENT STRATEGY IS FOLLOWED WHEN 10 ITEMS IN EACH CATEGORY ARE SOLD AT THE OPTIMAL PRICE  WITH A TOTAL PROFIT OF $89.61\n"
     ]
    }
   ],
   "source": [
    "total_bi = 17.31+17.31+34.62+69.23+103.85+138.46+173.08+207.69+242.31+311.54 \n",
    "total_profit = 8.93+8.56+8.85+8.74+9.25+8.92+9.16+9.17+9.14+8.89\n",
    "print('TOTAL BI-WEEKLY PROFIT WILL BE ${:.2f} IF CURRENT STRATEGY IS FOLLOWED WHEN 10 ITEMS IN EACH CATEGORY ARE SOLD AT THE OPTIMAL PRICE  WITH A TOTAL PROFIT OF ${:.2f}'.format(total_bi,total_profit))"
   ]
  }
 ],
 "metadata": {
  "kernelspec": {
   "display_name": "Python 3",
   "language": "python",
   "name": "python3"
  },
  "language_info": {
   "codemirror_mode": {
    "name": "ipython",
    "version": 3
   },
   "file_extension": ".py",
   "mimetype": "text/x-python",
   "name": "python",
   "nbconvert_exporter": "python",
   "pygments_lexer": "ipython3",
   "version": "3.7.3"
  },
  "latex_envs": {
   "LaTeX_envs_menu_present": true,
   "autoclose": false,
   "autocomplete": true,
   "bibliofile": "biblio.bib",
   "cite_by": "apalike",
   "current_citInitial": 1,
   "eqLabelWithNumbers": true,
   "eqNumInitial": 1,
   "hotkeys": {
    "equation": "Ctrl-E",
    "itemize": "Ctrl-I"
   },
   "labels_anchors": false,
   "latex_user_defs": false,
   "report_style_numbering": true,
   "user_envs_cfg": false
  }
 },
 "nbformat": 4,
 "nbformat_minor": 2
}
